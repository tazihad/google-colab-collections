{
  "nbformat": 4,
  "nbformat_minor": 0,
  "metadata": {
    "colab": {
      "name": "Colab-SimpleTorrent.ipynb",
      "provenance": [],
      "include_colab_link": true
    },
    "kernelspec": {
      "name": "python3",
      "display_name": "Python 3"
    }
  },
  "cells": [
    {
      "cell_type": "markdown",
      "metadata": {
        "id": "view-in-github",
        "colab_type": "text"
      },
      "source": [
        "<a href=\"https://colab.research.google.com/github/tazihad/google-colab-collections/blob/main/Colab_SimpleTorrent.ipynb\" target=\"_parent\"><img src=\"https://colab.research.google.com/assets/colab-badge.svg\" alt=\"Open In Colab\"/></a>"
      ]
    },
    {
      "cell_type": "code",
      "metadata": {
        "cellView": "form",
        "id": "uZ414SCuRCkN"
      },
      "source": [
        "#@markdown <br><center><img src='https://upload.wikimedia.org/wikipedia/commons/thumb/d/da/Google_Drive_logo.png/600px-Google_Drive_logo.png' height=\"50\" alt=\"Gdrive logo\"/></center>\n",
        "#@markdown <center><h3>Mount Gdrive to /content/drive</h3></center><br>\n",
        "MODE = \"MOUNT\" #@param [\"MOUNT\", \"UNMOUNT\"]\n",
        "#Mount your Gdrive! \n",
        "from google.colab import drive\n",
        "drive.mount._DEBUG = False\n",
        "if MODE == \"MOUNT\":\n",
        "  drive.mount('/content/drive', force_remount=True)\n",
        "elif MODE == \"UNMOUNT\":\n",
        "  try:\n",
        "    drive.flush_and_unmount()\n",
        "  except ValueError:\n",
        "    pass\n",
        "  get_ipython().system_raw(\"rm -rf /root/.config/Google/DriveFS\")"
      ],
      "execution_count": null,
      "outputs": []
    },
    {
      "cell_type": "markdown",
      "metadata": {
        "id": "j1RJhk9bqYjh"
      },
      "source": [
        "# <img src='https://i.imgur.com/DOoxSuO.png' height=\"38\" alt=\"Simple Torrent\" />"
      ]
    },
    {
      "cell_type": "markdown",
      "metadata": {
        "id": "jBE-TwwXqZ7_"
      },
      "source": [
        "**Important Note:** To get more disk space\n",
        "> Go to **Runtime** -> **Change runtime type** and give GPU as the Hardware Accelerator.  You will get around 384GB to download any torrent you want."
      ]
    },
    {
      "cell_type": "code",
      "metadata": {
        "id": "7ugL9AHMqejP",
        "cellView": "form"
      },
      "source": [
        "#@markdown <h4>⬅️ Click here to START server</h4>\n",
        "#@markdown <br><center><img src='https://i.imgur.com/DOoxSuO.png' height=\"50\" alt=\"netdata\"/></center>\n",
        "#@markdown <center><h3>SimpleTorrent is a a self-hosted remote torrent client.</h3></center><br>\n",
        "\n",
        "import os\n",
        "import time\n",
        "import pathlib \n",
        "import urllib.request\n",
        "from IPython.display import clear_output\n",
        "\n",
        "# script version\n",
        "Version = '1.0'\n",
        "\n",
        "#####################################\n",
        "USE_FREE_TOKEN = False \n",
        "TOKEN = \"\"\n",
        "HOME = os.path.expanduser(\"~\")\n",
        "\n",
        "if not os.path.exists(f\"{HOME}/.ipython/ttmg.py\"):\n",
        "    hCode = \"https://raw.githubusercontent.com/Pavithran-R/\" \\\n",
        "                \"Colab-SimpleTorrent/master/res/ttmg.py\"\n",
        "    urllib.request.urlretrieve(hCode, f\"{HOME}/.ipython/ttmg.py\")\n",
        "\n",
        "from ttmg import (\n",
        "    runSh,\n",
        "    findProcess,\n",
        "    loadingAn,\n",
        "    updateCheck,\n",
        "    ngrok\n",
        ")\n",
        "# making enviroment for simple-torrent\n",
        "pathlib.Path('downloads').mkdir(mode=0o777, exist_ok=True)\n",
        "pathlib.Path('torrents').mkdir(mode=0o777, exist_ok=True)\n",
        "  \n",
        "configPath = pathlib.Path('cloud-torrent.json')\n",
        "configsdata = r\"\"\"\n",
        "{{\n",
        "  \"AutoStart\": true,\n",
        "  \"EngineDebug\": false,\n",
        "  \"MuteEngineLog\": true,\n",
        "  \"ObfsPreferred\": true,\n",
        "  \"ObfsRequirePreferred\": false,\n",
        "  \"DisableTrackers\": false,\n",
        "  \"DisableIPv6\": false,\n",
        "  \"DownloadDirectory\": \"downloads/\",\n",
        "  \"WatchDirectory\": \"torrents/\",\n",
        "  \"EnableUpload\": true,\n",
        "  \"EnableSeeding\": false,\n",
        "  \"IncomingPort\": 50007,\n",
        "  \"DoneCmd\": \"{}/doneCMD.sh\",\n",
        "  \"SeedRatio\": 1.5,\n",
        "  \"UploadRate\": \"High\",\n",
        "  \"DownloadRate\": \"Unlimited\",\n",
        "  \"TrackerListURL\": \"https://trackerslist.com/best.txt\",\n",
        "  \"AlwaysAddTrackers\": true,\n",
        "  \"ProxyURL\": \"\"\n",
        "}}\n",
        "\"\"\".format(HOME)\n",
        "with open(configPath, \"w+\") as configFile:\n",
        "  configFile.write(configsdata)\n",
        "#####################################\n",
        "\n",
        "if updateCheck(\"Checking updates ...\", Version):  # VERSION CHECKING ...\n",
        "    !kill -9 -1 &\n",
        "clear_output()\n",
        "\n",
        "# Simple Torrent installing ...\n",
        "loadingAn()\n",
        "if os.path.isfile(\"/usr/local/bin/cloud-torrent\") is False:\n",
        "  dcmd = \"wget -qq https://raw.githubusercontent.com/Pavithran-R/\" \\\n",
        "          \"Colab-SimpleTorrent/master/res/scripts/\" \\\n",
        "          \"simpleCloudInstaller.sh -O ./simpleCloudInstaller.sh\"\n",
        "  runSh(dcmd)\n",
        "  runSh('bash ./simpleCloudInstaller.sh')\n",
        "  runSh('rm -rf ./simpleCloudInstaller.sh')\n",
        "\n",
        "#Opening cloud-torrent in background\n",
        "if not findProcess(\"cloud-torrent\", \"cloud-torrent\"):\n",
        "  PORT = 4444\n",
        "  try:\n",
        "    urllib.request.urlopen(f\"http://localhost:{PORT}\")\n",
        "  except:\n",
        "    cmdC = f'cloud-torrent --port {PORT} ' \\\n",
        "        '-t \"SimpleTorrent\" ' \\\n",
        "        '-c cloud-torrent.json ' \\\n",
        "        '--host 0.0.0.0 --disable-log-time ' \\\n",
        "        '&'\n",
        "    for run in range(10):    \n",
        "      runSh(cmdC, shell=True)\n",
        "      time.sleep(3)\n",
        "      try:\n",
        "        urllib.request.urlopen(f\"http://localhost:{PORT}\")\n",
        "        break\n",
        "      except:\n",
        "        print(\"Error: Simple-Torrent not starting. Retrying ...\")\n",
        "\n",
        "# START_SERVER\n",
        "clear_output()\n",
        "Server = ngrok(\n",
        "    TOKEN, USE_FREE_TOKEN, [['simple-torrent', 4444, 'http'], \n",
        "    ['peerflix-server', 4445, 'http']], 'us', \n",
        "    [f\"{HOME}/.ngrok2/ngrok01.yml\", 4040]\n",
        ").start('simple-torrent')"
      ],
      "execution_count": null,
      "outputs": []
    }
  ]
}